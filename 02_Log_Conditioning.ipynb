{
 "cells": [
  {
   "cell_type": "code",
   "execution_count": null,
   "metadata": {},
   "outputs": [],
   "source": [
    "# Take a copy for comparison of filtered with unfiltered\n",
    "filt = df.copy()\n",
    "filt = filt.rolling(11).median()"
   ]
  },
  {
   "cell_type": "markdown",
   "metadata": {},
   "source": [
    "# Normalise for outlier removal"
   ]
  },
  {
   "cell_type": "code",
   "execution_count": null,
   "metadata": {},
   "outputs": [],
   "source": [
    "from sklearn.compose import ColumnTransformer\n",
    "from sklearn.preprocessing import PowerTransformer\n",
    "\n",
    "# scaler = PowerTransformer(method='yeo-johnson')\n",
    "\n",
    "# ct = ColumnTransformer([('transform', scaler, input_columns)], remainder='passthrough')\n",
    "\n",
    "# filt.dropna(inplace=True)\n",
    "# trans = ct.fit_transform(filt)\n",
    "\n",
    "# trans = pd.DataFrame(trans, columns=input_columns)"
   ]
  },
  {
   "cell_type": "markdown",
   "metadata": {},
   "source": [
    "# Remove Outliers prior to feature engineering"
   ]
  },
  {
   "cell_type": "code",
   "execution_count": null,
   "metadata": {},
   "outputs": [],
   "source": [
    "from sklearn.ensemble import IsolationForest\n",
    "from sklearn.covariance import EllipticEnvelope\n",
    "from sklearn.neighbors import LocalOutlierFactor\n",
    "from sklearn.svm import OneClassSVM\n",
    "\n",
    "# fig, ax = plt.subplots()\n",
    "# ax.boxplot(trans)\n",
    "# plt.show()"
   ]
  },
  {
   "cell_type": "markdown",
   "metadata": {},
   "source": [
    "# Create velocity, impedance and porosity logs"
   ]
  },
  {
   "cell_type": "code",
   "execution_count": 14,
   "metadata": {},
   "outputs": [],
   "source": [
    "df = rplog_convert(df, \"DTC\", \"DTS\")\n",
    "df['PHIE'] = density_porosity(df.RHOB, 2.8, 1.1)\n",
    "# Repeat for median filtered version\n",
    "filt = rplog_convert(filt, \"DTC\", \"DTS\")\n",
    "filt['PHIE'] = density_porosity(filt.RHOB, 2.8, 1.1)"
   ]
  },
  {
   "cell_type": "markdown",
   "metadata": {},
   "source": [
    "# Calculate Shale logs from GR log"
   ]
  },
  {
   "cell_type": "code",
   "execution_count": 15,
   "metadata": {},
   "outputs": [],
   "source": [
    "# Calculates a number of VSH versions\n",
    "df = vshale_from_gr(df)\n",
    "filt = vshale_from_gr(filt)"
   ]
  },
  {
   "cell_type": "markdown",
   "metadata": {},
   "source": [
    "# Calculate Water Saturation\n",
    "## Archies Equation\n",
    "\n",
    "$$S_w =\\Bigg( \\frac{aR_w}{R_t \\phi^m}\\Bigg)^\\frac{1}{n}$$\n",
    "    \n",
    "$S_w$ : water saturation of the uninvaded zone \\\n",
    "`n`  : saturation exponent, 1.8-4.0, usually 2.0 \\\n",
    "$R_w$ : formation water resistivity at formation temperature \\\n",
    "$\\phi$: porosity \\\n",
    "`m`  : cementation exponent, 1.7-3.0, usually 2.0 \\\n",
    "$R_t$ : true resistivity of the formation, corrected for invasion \\\n",
    "`a`  : 1 (carbonate), 0.62 (sandstone) \\"
   ]
  },
  {
   "cell_type": "code",
   "execution_count": 1,
   "metadata": {},
   "outputs": [
    {
     "ename": "NameError",
     "evalue": "name 'df' is not defined",
     "output_type": "error",
     "traceback": [
      "\u001b[1;31m---------------------------------------------------------------------------\u001b[0m",
      "\u001b[1;31mNameError\u001b[0m                                 Traceback (most recent call last)",
      "\u001b[1;32m<ipython-input-1-a41ed78504c8>\u001b[0m in \u001b[0;36m<module>\u001b[1;34m\u001b[0m\n\u001b[0;32m      1\u001b[0m \u001b[1;31m# Archies Equation:\u001b[0m\u001b[1;33m\u001b[0m\u001b[1;33m\u001b[0m\u001b[1;33m\u001b[0m\u001b[0m\n\u001b[0;32m      2\u001b[0m \u001b[0mn\u001b[0m \u001b[1;33m=\u001b[0m \u001b[1;36m2\u001b[0m\u001b[1;33m\u001b[0m\u001b[1;33m\u001b[0m\u001b[0m\n\u001b[1;32m----> 3\u001b[1;33m \u001b[0mrw\u001b[0m \u001b[1;33m=\u001b[0m \u001b[0mdf\u001b[0m\u001b[1;33m.\u001b[0m\u001b[0mRSHA\u001b[0m \u001b[1;31m# RXO\u001b[0m\u001b[1;33m\u001b[0m\u001b[1;33m\u001b[0m\u001b[0m\n\u001b[0m\u001b[0;32m      4\u001b[0m \u001b[0mphi\u001b[0m \u001b[1;33m=\u001b[0m \u001b[0mdf\u001b[0m\u001b[1;33m.\u001b[0m\u001b[0mPHIE\u001b[0m\u001b[1;33m\u001b[0m\u001b[1;33m\u001b[0m\u001b[0m\n\u001b[0;32m      5\u001b[0m \u001b[0mm\u001b[0m \u001b[1;33m=\u001b[0m \u001b[1;36m2\u001b[0m\u001b[1;33m\u001b[0m\u001b[1;33m\u001b[0m\u001b[0m\n",
      "\u001b[1;31mNameError\u001b[0m: name 'df' is not defined"
     ]
    }
   ],
   "source": [
    "# Archies Equation: \n",
    "n = 2\n",
    "rw = df.RSHA # RXO\n",
    "phi = df.PHIE\n",
    "m = 2\n",
    "rt = df.RDEP # RMED\n",
    "a = 0.62\n",
    "\n",
    "# Sw = ((a * rw) / (rt * phi^m))**0.5"
   ]
  },
  {
   "cell_type": "code",
   "execution_count": null,
   "metadata": {},
   "outputs": [],
   "source": [
    "# Remove DT, DTS, VSH_{versions}, IGR. Replaced with VP, VS\n",
    "df = df[rock_physics_curves]\n",
    "filt = filt[rock_physics_curves]"
   ]
  },
  {
   "cell_type": "markdown",
   "metadata": {},
   "source": [
    "# Plot basic rock physics logs and compare unfiltered with filtered"
   ]
  },
  {
   "cell_type": "code",
   "execution_count": null,
   "metadata": {},
   "outputs": [],
   "source": [
    "# Plot logs from unfiltered\n",
    "fig, axs = plt.subplots(1, len(df.columns), figsize=(14, 10), sharey=True)\n",
    "for ic, col in enumerate(df.columns):\n",
    "    axs[ic].plot(df[col], df.index)\n",
    "    axs[ic].set_xlabel(col)\n",
    "axs[0].set_ylim(df.index.values[-1], df.index.values[0])"
   ]
  },
  {
   "cell_type": "code",
   "execution_count": null,
   "metadata": {},
   "outputs": [],
   "source": [
    "# Plot logs from filtered\n",
    "fig, axs = plt.subplots(1, len(filt.columns), figsize=(14, 10), sharey=True)\n",
    "for ic, col in enumerate(filt.columns):\n",
    "    axs[ic].plot(filt[col], filt.index)\n",
    "    axs[ic].set_xlabel(col)\n",
    "axs[0].set_ylim(filt.index.values[-1], filt.index.values[0])"
   ]
  },
  {
   "cell_type": "code",
   "execution_count": null,
   "metadata": {},
   "outputs": [],
   "source": [
    "# Plot these, histogram and boxplots ???\n",
    "filt_unfilt_diff(df, filt)"
   ]
  },
  {
   "cell_type": "markdown",
   "metadata": {},
   "source": [
    "# Calculate lithofacies (litho-fluid-facies)\n",
    "ref: https://github.com/seg/tutorials-2015/blob/master/1504_Seismic_petrophysics_1/Seismic_petrophysics_1.ipynb"
   ]
  },
  {
   "cell_type": "code",
   "execution_count": null,
   "metadata": {},
   "outputs": [],
   "source": [
    "# ztop = 3300; zbot = df.DEPTH_MD.max()\n",
    "\n",
    "# logs = df.loc[(df.DEPTH_MD>=ztop) & (df.DEPTH_MD<=zbot)]\n",
    "\n",
    "# sand_cutoff = 0.20\n",
    "# brine_sand = ((logs.VSH <= sand_cutoff) & (logs.SW >= 0.9))\n",
    "# oil_sand = ((logs.VSH <= sand_cutoff) & (logs.SW < 0.9))\n",
    "# shale = (logs.VSH > sand_cutoff)\n",
    "\n",
    "# temp_lfc = np.zeros(np.shape(logs.VSH))\n",
    "# temp_lfc[brine_sand.values] = 1    # LFC will be 1 when ssb (brine sand flag) is True\n",
    "# temp_lfc[oil_sand.values] = 2      # LFC will be 2 when sso (oil sand flag) is True\n",
    "# temp_lfc[shale.values] = 4         # LFC will be 4 when sh (shale flag) is True\n",
    "# logs['LFC'] = temp_lfc             # Copy the temporary log temp_lfc into the DataFrame with name `LFC`\n",
    "\n",
    "# # logs.to_csv('qsiwell2_lfc.csv',index=False) # save the data for use in Part 2"
   ]
  },
  {
   "cell_type": "markdown",
   "metadata": {},
   "source": [
    "# Plot unfiltered and filtered logs"
   ]
  },
  {
   "cell_type": "code",
   "execution_count": null,
   "metadata": {},
   "outputs": [],
   "source": [
    "# Unfiltered\n",
    "plotlog(df, 3300, 3470, 0.3, 0.35)"
   ]
  },
  {
   "cell_type": "code",
   "execution_count": null,
   "metadata": {},
   "outputs": [],
   "source": [
    "# Filtered\n",
    "plotlog(filt, 3300, 3470, 0.5, 0.55)"
   ]
  }
 ],
 "metadata": {
  "kernelspec": {
   "display_name": "Python 3",
   "language": "python",
   "name": "python3"
  },
  "language_info": {
   "codemirror_mode": {
    "name": "ipython",
    "version": 3
   },
   "file_extension": ".py",
   "mimetype": "text/x-python",
   "name": "python",
   "nbconvert_exporter": "python",
   "pygments_lexer": "ipython3",
   "version": "3.8.5"
  }
 },
 "nbformat": 4,
 "nbformat_minor": 1
}
