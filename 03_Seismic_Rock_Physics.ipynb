{
 "cells": [
  {
   "cell_type": "markdown",
   "metadata": {},
   "source": [
    "# rock physics modeling\n",
    "\n",
    "***\n",
    "\n",
    "I will define now the following functions:\n",
    "\n",
    "* `vrh`: to calculate average properties for mixture of 2 minerals or fluids\n",
    "* `hertzmindlin`: to calculate the high porosity endpoints\n",
    "* `softsand`: to calculate dry-rock moduli using the Soft Sand model\n",
    "* `stiffsand`: to calculate dry-rock moduli using the Stiff Sand model\n",
    "* `vels`: to calculate saturated moduli and velocities"
   ]
  },
  {
   "cell_type": "markdown",
   "metadata": {},
   "source": [
    "Let's set some starting parameters for minerals and fluids:\n",
    "\n",
    "* `RHO_qz`, `K_qz`, `MU_qz` are density, bulk and shear moduli for quartz\n",
    "* `RHO_sh`, `K_sh`, `MU_sh` are density, bulk and shear moduli for a generic shale mineral\n",
    "* `RHO_b`, `K_b`, `RHO_o`, `K_o`, `RHO_g`, `K_g` are density and bulk modulus for brine, oil and gas\n",
    "\n",
    "A few additional parameters required by the rock physics equations are:\n",
    "\n",
    "* `Cn` is the coordination number\n",
    "* `phic` is the critical porosity\n",
    "* `f` is the shear modulus correction factor (`f=1` for dry pack with perfect adhesion between particles and `f=0` for a dry frictionless pack)\n",
    "\n",
    "Finally, `phi` is a vector of porosity values which is the most important parameter for all these models."
   ]
  },
  {
   "cell_type": "markdown",
   "metadata": {},
   "source": [
    "RHO_qz = 2.6;   K_qz = 37;  MU_qz = 44\n",
    "RHO_sh = 2.8;   K_sh = 15;  MU_sh = 5\n",
    "RHO_b = 1.1 ;   K_b = 2.8 \n",
    "RHO_o = 0.8;    K_o = 0.9\n",
    "RHO_g = 0.2;    K_g = 0.06              \n",
    "\n",
    "Cn = 8\n",
    "phic = 0.4\n",
    "f = 1\n",
    "\n",
    "phi=np.linspace(0.01, 0.4)"
   ]
  },
  {
   "cell_type": "markdown",
   "metadata": {},
   "source": [
    "As a starting point, I will assume that the reservoir sands are 'clean' (i.e., entirely made of quartz) so the mineral moduli are the same as the quartz moduli; I will also calculate the velocities for both the Soft and the Stiff Sand models using brine as saturating fluid:"
   ]
  },
  {
   "cell_type": "code",
   "execution_count": null,
   "metadata": {},
   "outputs": [],
   "source": [
    "K0, MU0, RHO0 = K_qz, MU_qz, RHO_qz\n",
    "\n",
    "Kdry, MUdry = softsand(K0, MU0, phi, phic, Cn, P=45)\n",
    "vp_ssm, vs_ssm, rho_ssm, _ = vels(Kdry, MUdry, K0, RHO0, K_b, RHO_b, phi)\n",
    "\n",
    "Kdry, MUdry = stiffsand(K0, MU0, phi, phic, Cn, P=45)\n",
    "vp_sti, vs_sti, rho_sti, _ = vels(Kdry, MUdry, K0, RHO0, K_b, RHO_b, phi)"
   ]
  },
  {
   "cell_type": "markdown",
   "metadata": {},
   "source": [
    "I will plot the same data as before in the PHI-VP crossplot, superimposing the Soft Sand (continuous black line) and the Stiff Sand (dotted line) model lines:"
   ]
  },
  {
   "cell_type": "code",
   "execution_count": null,
   "metadata": {},
   "outputs": [],
   "source": [
    "def soft_stiff_sand(L, z1, z2, cutoff_sand, cutoff_shale):\n",
    "    \"\"\"\n",
    "    This wasn't in a function originally.  \n",
    "    The z1, z2, cutoff_sand, cutoff_shale and ss, sh is required further down\n",
    "    \"\"\"\n",
    "\n",
    "    ss = (L.index >= z1) & (L.index <= z2) & (L.VSH <= cutoff_sand)\n",
    "    sh = (L.index >= z1) & (L.index <= z2) & (L.VSH >= cutoff_shale)\n",
    "\n",
    "    f, ax = plt.subplots(figsize=(5, 5))\n",
    "    ax.plot(L.PHIE[ss], L.VP[ss], **sty1)\n",
    "    ax.plot(phi, vp_ssm, '-k')\n",
    "    ax.plot(phi, vp_sti, ':k')\n",
    "    ax.set_xlim(0,0.4),  ax.set_ylim(2.5e3,5.5e3)\n",
    "    ax.set_xlabel('porosity PHIE')\n",
    "    ax.set_ylabel('velocity VP [m/s]')\n",
    "    ax.set_title('Soft Sand and Stiff Sand models')\n",
    "\n",
    "    #plt.savefig('/Users/matt/Dropbox/Agile/SEG/Tutorials/delMonte_Apr2017/Figure_2_part1.png', dpi=300)\n",
    "    plt.show()"
   ]
  },
  {
   "cell_type": "code",
   "execution_count": null,
   "metadata": {},
   "outputs": [],
   "source": [
    "soft_stiff_sand(df, 3250, 3475, 0.3, 0.35)"
   ]
  },
  {
   "cell_type": "markdown",
   "metadata": {},
   "source": [
    "At a first sight, both models may offer a good starting point to investigate these sands. \n",
    "\n",
    "The sands in this section are not hydrocarbon-bearing so I can dismiss fluid effects and start leveraging the rock physics model by displaying how mineralogy affects the velocities. To do that, I will simplify the problem assuming variations in Net:Gross. When N:G is 1, then the mineral moduli will be equal to those of quartz, when N:G is lower than 1 than I will use composite mineral moduli given by the Voigt-Reuss-Hill average of quartz and a generic shale:\n",
    "\n",
    "$$K_{Voigt} = (V_{qz} \\cdot K_{qz}) + (V_{sh} \\cdot K_{sh}) $$\n",
    "\n",
    "$$K_{Reuss} = \\frac{1} { (V_{qz} / K_{qz}) + (V_{sh} / K_{sh}) } $$\n",
    "\n",
    "$$K_{Hill} = \\frac{K_{Voigt} + K_{Reuss} } {2}  $$\n",
    "\n",
    "In other words, if N:G=0.8 and the quartz and shale mineral moduli are respectively $K_{qz}=37$, $K_{sh}=15$ and $\\mu_{qz}=44$ and $\\mu_{sh}=5$:"
   ]
  },
  {
   "cell_type": "code",
   "execution_count": null,
   "metadata": {},
   "outputs": [],
   "source": [
    "K_Voigt = 0.8*K_qz + 0.2*K_sh\n",
    "K_Reuss = 1/ ( 0.8/K_qz + 0.2/K_sh )\n",
    "K_Hill = (K_Voigt + K_Reuss) / 2\n",
    "\n",
    "MU_Voigt = 0.8*MU_qz + 0.2*MU_sh\n",
    "MU_Reuss = 1/ ( 0.8/MU_qz + 0.2/MU_sh )\n",
    "MU_Hill = (MU_Voigt + MU_Reuss) / 2\n",
    "\n",
    "print('K_VRH = {:.2f}, mu_VRH = {:.2f}'.format(K_Hill, MU_Hill))"
   ]
  },
  {
   "cell_type": "markdown",
   "metadata": {},
   "source": [
    "Density of the composite mineral are easier to calculate:\n",
    "\n",
    "$$ \\rho = V_{qz} \\cdot \\rho_{qz} + V_{sh} \\cdot \\rho_{sh} $$\n",
    "\n",
    "therefore:"
   ]
  },
  {
   "cell_type": "code",
   "execution_count": null,
   "metadata": {},
   "outputs": [],
   "source": [
    "rho = 0.8*RHO_qz + 0.2*RHO_sh\n",
    "\n",
    "print('RHO = {:.2f}'.format(rho))"
   ]
  },
  {
   "cell_type": "markdown",
   "metadata": {},
   "source": [
    "Now let's put it all together and create show how the models change for different mineralogies:"
   ]
  },
  {
   "cell_type": "code",
   "execution_count": null,
   "metadata": {},
   "outputs": [],
   "source": [
    "z1, z2, cutoff_sand, cutoff_shale = 3250, 3475, 0.3, 0.4\n",
    "ss = (df.index >= z1) & (df.index <= z2) & (df.VSH <= cutoff_sand)\n",
    "sh = (df.index >= z1) & (df.index <= z2) & (df.VSH >= cutoff_shale)\n",
    "\n",
    "\n",
    "NG=np.linspace(0.6, 1.0, 5)\n",
    "\n",
    "f, ax = plt.subplots(nrows=1, ncols=2, figsize=(12,5))\n",
    "\n",
    "for i in NG:\n",
    "    _,_,K0 = vrh(i,K_qz,K_sh)\n",
    "    _,_,MU0 = vrh(i,MU_qz,MU_sh)    \n",
    "    RHO0 = i*RHO_qz+(1-i)*RHO_sh\n",
    "    Kdry, MUdry = softsand(K0, MU0, phi, phic=.5, Cn=12, P=45)\n",
    "    vp_ssm,vs_ssm,rho_ssm,_= vels(Kdry,MUdry,K0,RHO0,K_b,RHO_b,phi)\n",
    "    Kdry, MUdry = stiffsand(K0, MU0, phi, phic=.4, Cn=8, P=45)\n",
    "    vp_sti,vs_sti,rho_sti,_= vels(Kdry,MUdry,K0,RHO0,K_b,RHO_b,phi)\n",
    "    ax[0].plot(phi, vp_ssm, '-k', label='N:G={:.2f}'.format(i),alpha=i-.4)\n",
    "    ax[1].plot(phi, vp_sti, '-k', label='N:G={:.2f}'.format(i),alpha=i-.4)\n",
    "\n",
    "for aa in ax:\n",
    "    aa.plot(df.PHIE[ss], df.VP[ss], **sty1, label='')\n",
    "    aa.set_xlim(0, 0.4), aa.set_ylim(2e3, 4e3)\n",
    "    aa.legend(loc='best')\n",
    "\n",
    "ax[0].set_title('Soft Sand model')\n",
    "ax[0].set_xlabel('porosity PHIE')\n",
    "\n",
    "ax[1].set_title('Stiff Sand model')\n",
    "ax[1].set_xlabel('porosity PHIE')\n",
    "\n",
    "# plt.savefig('/Users/matt/Dropbox/Agile/SEG/Tutorials/delMonte_Apr2017/Figure_2_part2.png', dpi=300)\n",
    "plt.show()"
   ]
  },
  {
   "cell_type": "markdown",
   "metadata": {},
   "source": [
    "To have the models spread out to cover the entire range of the well data, I had to code them with different parameters. In the code cell above, these are the lines that call the two models:\n",
    "\n",
    "    Kdry, MUdry = softsand(K0, MU0, phi, phic=.5, Cn=12, P=45)\n",
    "    Kdry, MUdry = stiffsand(K0, MU0, phi, phic=.4, Cn=8, P=45)\n",
    "\n",
    "The Soft Sand model uses higher critical porosity and coordination number than the Stiff Sand model, which means that the reservoir sands can be described by either a stiffer 'soft' sand or a 'softer' stiff sand (the coordination number `Cn` suggests a closer packing of the individual grains that make up our sand, which in turn means a more compact and harder material).\n",
    "\n",
    "If a more accurate petrophysical analysis was available, it would make sense to color-code the well data to the various mineralogical volumes and try also to deduce the mineral assemblage. In this case however the shale volume was created from the gamma ray log and within the reservoir sand it would give us very little insight into the actual mineralogy of the sand. Therefore it is up to the interpreter to decide if the spread of the rock physics models could help in determining the reason behind the scatter of the data, since as already pointed out it is not due to fluid variations.\n",
    "\n",
    "So far then, both models fit the datapoints. It is up to the interpreter to decide which model is more appropriate; this is an essential question and it has probably more to do with the expectations we have than other hard data. The behaviour of the model lines with decreasing varying porosity is particularly important; do we expect to have very abrupt increases in velocity for a single porosity unit increase like in the Stiff Sand model? Does this fit with the knowledge we have from nearby wells or formation analogues?"
   ]
  },
  {
   "cell_type": "code",
   "execution_count": null,
   "metadata": {},
   "outputs": [],
   "source": [
    "phi_test = np.array([0.2,0.3])\n",
    "\n",
    "Kdry, MUdry = softsand(K0, MU0, phi_test, phic=.5, Cn=12, P=45)\n",
    "vp_ssm,_,_,_= vels(Kdry,MUdry,K0,RHO0,K_b,RHO_b,phi_test)\n",
    "\n",
    "Kdry, MUdry = stiffsand(K0, MU0, phi_test, phic=.4, Cn=8, P=45)\n",
    "vp_sti,_,_,_ = vels(Kdry,MUdry,K0,RHO0,K_b,RHO_b,phi_test)\n",
    "\n",
    "print('Soft Sand RPM: phi={:.2f} --> Vp={:.0f} m/s'.format(phi_test[0],vp_ssm[0]))\n",
    "print('Soft Sand RPM: phi={:.2f} --> Vp={:.0f} m/s'.format(phi_test[1],vp_ssm[1]))\n",
    "print('Soft Sand RPM: increase in Vp after 10% porosity decrease={:.0%}'.format((vp_ssm[0]-vp_ssm[1])/vp_ssm[1]))\n",
    "\n",
    "print('Stiff Sand RPM: phi={:.2f} --> Vp={:.0f} m/s'.format(phi_test[0],vp_sti[0]))\n",
    "print('Stiff Sand RPM: phi={:.2f} --> Vp={:.0f} m/s'.format(phi_test[1],vp_sti[1]))\n",
    "print('Stiff Sand RPM: increase in Vp after 10% porosity decrease={:.0%}'.format((vp_sti[0]-vp_sti[1])/vp_sti[1]))"
   ]
  },
  {
   "cell_type": "markdown",
   "metadata": {},
   "source": [
    "Is it reasonable to assume that velocities would increase so much (from 3477 to 4320 m/s) when the reservoir goes from good to only slighty less than good porosities? In the absence of a good geological background, an investigation on other wells that have penetrated similar lithologies would probably point us in the right direction."
   ]
  },
  {
   "cell_type": "markdown",
   "metadata": {},
   "source": [
    "## rock physics templates\n",
    "\n",
    "The set of models for varying degrees of N:G shown above are a basic example of rock physics templates (RPTs). It is fairly easy to build from that and have a function to create RPTs which show not only variations in porosity and mineralogy but also fluid content.\n",
    "\n",
    "Avseth first introduced the concept of _rock physics templates_ (RPT) to display a reference framework of all the possible variations of a particular rock and use such templates to understand actual well log data (or seismic-derived elastic properties).\n",
    "\n",
    "In the code cell below, I have simply assembled the functions to compute $K_{dry}$ and $\\mu_{dry}$ for the two models (Soft and Stiff Sand), the velocities using Gassmann's equation therefore giving the user to select which kind of fluid variations to analyse (from brine to oil or brine to gas), and return arrays of IP and VP/VS that we can overlay on top of well data. In addition to that, the function will also plot the actual RPTs with all the labels to make sense of it."
   ]
  },
  {
   "cell_type": "markdown",
   "metadata": {},
   "source": [
    "Let's try the function `rpt` to show the templates for both Soft and Stiff Sand models in the IP/VPVS domain. The parameters passed to the function are those that I have previously selected in my initial assessment (but once we go from the PHI/VP to IP/VPVS domain it is likely that these parameters will be fine-tuned)."
   ]
  },
  {
   "cell_type": "code",
   "execution_count": null,
   "metadata": {},
   "outputs": [],
   "source": [
    "ip_rpt1, vpvs_rpt1 = rpt(model='stiff',vsh=0.6,fluid='oil',phic=0.4,Cn=8,P=45,f=.3)"
   ]
  },
  {
   "cell_type": "code",
   "execution_count": null,
   "metadata": {},
   "outputs": [],
   "source": [
    "ip_rpt0, vpvs_rpt0 = rpt(model='soft',vsh=0.6,fluid='oil',phic=0.5,Cn=12,P=45,f=.3)"
   ]
  },
  {
   "cell_type": "markdown",
   "metadata": {},
   "source": [
    "Now let's plot them together with the well data:"
   ]
  },
  {
   "cell_type": "code",
   "execution_count": null,
   "metadata": {},
   "outputs": [],
   "source": [
    "# f, ax = plt.subplots(nrows=1, ncols=2, figsize=(12,5))\n",
    "# ax[0].plot(ip_rpt0, vpvs_rpt0, 'sk', mew=0, alpha=0.5)\n",
    "# ax[1].plot(ip_rpt1, vpvs_rpt1, 'sk', mew=0, alpha=0.5)\n",
    "# for aa in ax:\n",
    "#     aa.plot(L.VP[ss]*L.RHO[ss], L.VP[ss]/L.VS[ss], **sty1)\n",
    "#     aa.set_xlim(2e3,10e3), aa.set_ylim(1.6,2.8)\n",
    "# ax[0].set_title('Soft Sand RPM')\n",
    "# ax[1].set_title('Stiff Sand RPM')\n",
    "\n",
    "# ax[0].set_xlabel('IP')\n",
    "# ax[0].set_ylabel('VP/VS')\n",
    "\n",
    "# plt.savefig('/Users/matt/Dropbox/Agile/SEG/Tutorials/delMonte_Apr2017/Figure_3_part2.png', dpi=300)\n",
    "# plt.show()"
   ]
  },
  {
   "cell_type": "code",
   "execution_count": null,
   "metadata": {},
   "outputs": [],
   "source": [
    "f, ax = plt.subplots(nrows=1, ncols=1, figsize=(7,7))\n",
    "ax.plot(ip_rpt0, vpvs_rpt0, 'sk', mew=0, alpha=0.5)\n",
    "ax.plot(df.VP[ss]*df.RHOB[ss], df.VP[ss]/df.VS[ss], **sty1)\n",
    "ax.set_xlim(2e3,11e3)\n",
    "ax.set_ylim(1.6,2.8)\n",
    "\n",
    "ax.set_xlabel('IP')\n",
    "ax.set_ylabel('VP/VS')\n",
    "\n",
    "# plt.savefig('/Users/matt/Dropbox/Agile/SEG/Tutorials/delMonte_Apr2017/Figure_3_part2.png', dpi=300)\n",
    "plt.show()"
   ]
  },
  {
   "cell_type": "markdown",
   "metadata": {},
   "source": [
    "By choosing a full elastic domain to display the data, the Soft Sand RPM starts to make more sense, as it shows more gradual variations when porosity or fluid changes, in tune with the experimental data.\n",
    "\n",
    "An additional parameter that I had to set to fit the well data is the shear modulus correction factor `f` which most of the times becomes a pure fitting parameter, as it has very little correlation with any other piece of information that is usually available in exploration geophysics.\n",
    "\n",
    "***\n",
    "\n",
    "This game can be played forever, for example one can check the validity of the elastic moduli assigned to the second mineral (the one I have referred to as \"shale\") by computing and displaying different RPTs (in the plot below, the RPT for a 'clean' sand is in black, and red is the RPT for a shaly sand):"
   ]
  },
  {
   "cell_type": "code",
   "execution_count": null,
   "metadata": {},
   "outputs": [],
   "source": [
    "# Original parameters.\n",
    "RHO_sh=2.8;   K_sh=15;  MU_sh=5\n",
    "\n",
    "ip_rpt0a, vpvs_rpt0a = rpt(model='soft',vsh=0.0,fluid='oil',phic=0.5,Cn=12,P=45,f=.3,display=False)\n",
    "ip_rpt0b, vpvs_rpt0b = rpt(model='soft',vsh=0.6,fluid='oil',phic=0.5,Cn=12,P=45,f=.3,display=False)\n",
    "\n",
    "f, ax = plt.subplots(figsize=(7,7))\n",
    "ax.plot(ip_rpt0a, vpvs_rpt0a, 'sk', mew=0, alpha=0.5)\n",
    "ax.plot(ip_rpt0b, vpvs_rpt0b, 'sr', mew=0, alpha=0.5)\n",
    "ax.plot(df.VP[ss]*df.RHOB[ss], df.VP[ss]/df.VS[ss], **sty1)\n",
    "ax.set_xlim(2e3,11e3)\n",
    "ax.set_ylim(1.6,2.8)\n",
    "\n",
    "# plt.savefig('/Users/matt/Dropbox/Agile/SEG/Tutorials/delMonte_Apr2017/Figure_3_part2.png', dpi=300)\n",
    "# plt.show()"
   ]
  },
  {
   "cell_type": "markdown",
   "metadata": {},
   "source": [
    "If I change the \"shale\" elastic moduli to something different, the RPTs will change too. Once again if the fit is better, and in the absence of other information, that is a perfectly reasonable and valuable knowledge to add to the 'exploration' puzzle."
   ]
  },
  {
   "cell_type": "code",
   "execution_count": null,
   "metadata": {},
   "outputs": [],
   "source": [
    "# New parameters.\n",
    "RHO_sh=2.8;   K_sh=21;  MU_sh=3\n",
    "\n",
    "ip_rpt0a, vpvs_rpt0a = rpt(model='soft',vsh=0.0,fluid='oil',phic=0.5,Cn=12,P=45,f=.3,display=False)\n",
    "ip_rpt0b, vpvs_rpt0b = rpt(model='soft',vsh=0.6,fluid='oil',phic=0.5,Cn=12,P=45,f=.3,display=False)\n",
    "\n",
    "f, ax = plt.subplots(figsize=(7,7))\n",
    "#ax.plot(ip_rpt0a, vpvs_rpt0a, 'sk', mew=0, alpha=0.5)\n",
    "ax.plot(ip_rpt0b, vpvs_rpt0b, 'sb', mew=0, alpha=0.5)\n",
    "ax.plot(df.VP[ss]*df.RHOB[ss], df.VP[ss]/df.VS[ss], **sty1)\n",
    "ax.set_xlim(2e3,11e3), ax.set_ylim(1.6,2.8)\n",
    "\n",
    "ax.set_xlabel('IP')\n",
    "ax.set_ylabel('VP/VS')\n",
    "\n",
    "# plt.savefig('/Users/matt/Dropbox/Agile/SEG/Tutorials/delMonte_Apr2017/Figure_3_part3.png', dpi=300)\n",
    "plt.show()"
   ]
  },
  {
   "cell_type": "markdown",
   "metadata": {},
   "source": [
    "## seismic modeling\n",
    "\n",
    "Once I have a good grasp of the RPM, its adaptability to the situation under analysis, the way it reacts to different input parameters, I can start using it also to explore seismic data.\n",
    "\n",
    "It is very easy to use the velocities and densities output by the function `vels` introduced earlier to build simple two-layer models and analyse seismic and AVO signatures of the modeled top reservoir."
   ]
  },
  {
   "cell_type": "markdown",
   "metadata": {},
   "source": [
    "Let's start from the base scenario, i.e. the one observed on the real well. Average elastic properties from two fairly regular intervals above and below top reservoir can be extracted in this way:"
   ]
  },
  {
   "cell_type": "code",
   "execution_count": null,
   "metadata": {},
   "outputs": [],
   "source": [
    "top=3375\n",
    "z0=top-40\n",
    "z1=top\n",
    "z2=top+40\n",
    "z=df.index\n",
    "ss = (z>=z1) & (z<=z2)\n",
    "sh = (z>=z0) & (z<=z1)\n",
    "\n",
    "vp0, vs0, rho0 = df[['VP','VS','RHOB']][sh].mean().values\n",
    "vp1, vs1, rho1 = df[['VP','VS','RHOB']][ss].mean().values\n",
    "samples_sh=np.isfinite(df.index[sh]).size\n",
    "samples_ss=np.isfinite(df.index[ss]).size\n",
    "\n",
    "print('({:>4.0f}-{:<4.0f}m,{:3d} samples) Vp={:.0f}, Vs={:.0f}, rho={:.2f}, Ip={:.0f}, Vp/Vs={:.2f} '.format(z0,z1,samples_sh,vp0,vs0,rho0,vp0*rho0,vp0/vs0))\n",
    "print('({:>4.0f}-{:<4.0f}m,{:3d} samples) Vp={:.0f}, Vs={:.0f}, rho={:.2f}, Ip={:.0f}, Vp/Vs={:.2f} '.format(z1,z2,samples_ss,vp1,vs1,rho1,vp1*rho1,vp1/vs1))"
   ]
  },
  {
   "cell_type": "markdown",
   "metadata": {},
   "source": [
    "Then I will use `twolayer` to display seismic signatures at Near and Far offset traces and AVO curve:"
   ]
  },
  {
   "cell_type": "code",
   "execution_count": null,
   "metadata": {},
   "outputs": [],
   "source": [
    "twolayer(vp0, vs0, rho0, vp1, vs1, rho1)"
   ]
  },
  {
   "cell_type": "markdown",
   "metadata": {},
   "source": [
    "Using the RPM calibrated at the well, I can investigate different scenarios, e.g. by choosing a different fluid type:"
   ]
  },
  {
   "cell_type": "code",
   "execution_count": null,
   "metadata": {},
   "outputs": [],
   "source": [
    "RHO_qz=2.65;   K_qz=37;  MU_qz=15\n",
    "RHO_sh=2.8;   K_sh=15;  MU_sh=5\n",
    "\n",
    "phi,nn=.15,.9\n",
    "_,_,K0 = vrh(nn,K_qz,K_sh)\n",
    "_,_,MU0 = vrh(nn,MU_qz,MU_sh)    \n",
    "RHO0 = nn*RHO_qz+(1-nn)*RHO_sh\n",
    "\n",
    "Kdry, MUdry = softsand(K0, MU0, phi, phic=.5, Cn=12, P=45,f=.3)\n",
    "vp_rpm,vs_rpm,rho_rpm,_= vels(Kdry,MUdry,K0,RHO0,K_g,RHO_g,phi)  # K_g, RHO_g, Den and Bulk Mod for gas (cell 22ish)\n",
    "\n",
    "# first layer is shale (params from well data above, second layer is soft sand with gas)\n",
    "# IP=6000 (gas) IP=13000 (orig)\n",
    "twolayer(vp0, vs0, rho0, vp_rpm, vs_rpm, rho_rpm)  \n",
    "#plt.title('GAS case, phi=0.15')\n",
    "\n",
    "# plt.savefig('/Users/matt/Dropbox/Agile/SEG/Tutorials/delMonte_Apr2017/Figure_4.png', dpi=300)\n",
    "plt.show()"
   ]
  },
  {
   "cell_type": "markdown",
   "metadata": {},
   "source": [
    "Or increase the porosity:"
   ]
  },
  {
   "cell_type": "code",
   "execution_count": null,
   "metadata": {},
   "outputs": [],
   "source": [
    "phi,nn=.25,.9\n",
    "_,_,K0 = vrh(nn,K_qz,K_sh)\n",
    "_,_,MU0 = vrh(nn,MU_qz,MU_sh)    \n",
    "RHO0 = nn*RHO_qz+(1-nn)*RHO_sh\n",
    "\n",
    "Kdry, MUdry = softsand(K0, MU0, phi, phic=.5, Cn=12, P=45,f=.3)\n",
    "vp_rpm,vs_rpm,rho_rpm,_= vels(Kdry,MUdry,K0,RHO0,K_g,RHO_g,phi)\n",
    "\n",
    "twolayer(vp0,vs0,rho0,vp_rpm,vs_rpm,rho_rpm)\n",
    "plt.title('GAS case, phi=0.25')"
   ]
  },
  {
   "cell_type": "markdown",
   "metadata": {},
   "source": [
    "## conclusions\n",
    "\n",
    "I have shown here how to implement rock physics models and templates using standard Python libraries. The functions introduced here can be extended fairly easily for additional rock physics models (in the Appendix below I have included functions to calculate two other models). These functions form the basic building blocks of a workflow that can be used to study real datasets, analyse the elastic behaviour of individual reservoirs and build a collection of seismic and AVO signatures to be associated to particular associations of caprocks and reservoirs.\n",
    "\n",
    "I should add that I have not made a particular effort to accurately describe the real dataset used here, and the entire set of parameters and result are not meant to represent the solution to this problem. If the reader wants to know more about this particular dataset, I would recommend the referenced articles and book by Per Avseth."
   ]
  },
  {
   "cell_type": "markdown",
   "metadata": {},
   "source": [
    "# appendix\n",
    "\n",
    "Where I define two additional functions to code the Critical Porosity (Nur et al., 1991, 1995) and the Cemented Sand (or contact cement model; Dvorkin and Nur, 1996)\n",
    "RPMs."
   ]
  },
  {
   "cell_type": "markdown",
   "metadata": {},
   "source": [
    "# references\n",
    "\n",
    "* Avseth, P., Mukerji, T. & Mavko, G.: Quantitative Seismic Interpretation. (Cambridge University Press, 2005).\n",
    "\n",
    "* Dvorkin, J., Gutierrez, M. and Grana, D.: Seismic Reflections of Rock Properties.  (Cambridge University Press, 2012?).\n",
    "\n",
    "* Mavko, G., Mukerji, T. & Dvorkin, J.: The Rock Physics Handbook. (Cambridge University Press, 2009)."
   ]
  },
  {
   "cell_type": "code",
   "execution_count": null,
   "metadata": {},
   "outputs": [],
   "source": []
  }
 ],
 "metadata": {
  "kernelspec": {
   "display_name": "Python 3",
   "language": "python",
   "name": "python3"
  },
  "language_info": {
   "codemirror_mode": {
    "name": "ipython",
    "version": 3
   },
   "file_extension": ".py",
   "mimetype": "text/x-python",
   "name": "python",
   "nbconvert_exporter": "python",
   "pygments_lexer": "ipython3",
   "version": "3.8.5"
  }
 },
 "nbformat": 4,
 "nbformat_minor": 1
}
